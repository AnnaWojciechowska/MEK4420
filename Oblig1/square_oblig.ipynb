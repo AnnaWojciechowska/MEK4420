{
 "cells": [
  {
   "cell_type": "code",
   "execution_count": 1,
   "id": "84363837-b0ed-4503-999d-71a6d23b7138",
   "metadata": {},
   "outputs": [],
   "source": [
    "from numpy import cos, sin, pi, sqrt, arccos, log\n",
    "import matplotlib.pyplot as plt\n",
    "import numpy as np"
   ]
  },
  {
   "cell_type": "code",
   "execution_count": 2,
   "id": "32957665-4264-4648-82e0-a7f5f26ea7f9",
   "metadata": {},
   "outputs": [],
   "source": [
    "def simplified_fun(x, y, N):\n",
    "    #  the boundary is divided into N semgements, \n",
    "    #  each segment  end points xp,yp and xm, ym are elements of arrays \n",
    "    #  (xp[i],yp[i])__________(barx[i], bary[i])____________(xm[i], ym[i]) \n",
    "    #  where barx and bary are coordinates of midpoints\n",
    "    xp = x[1:]\n",
    "    yp = y[1:]\n",
    "    xm = x[:-1]\n",
    "    ym = y[:-1]\n",
    "    barx = 0.5 * (xp + xm)\n",
    "    bary = 0.5 * (yp + ym)\n",
    "    \n",
    "    ds = sqrt((xp - xm) ** 2 + (yp - ym) ** 2)\n",
    "    # compute direction vectors\n",
    "    directions = np.column_stack([xp - xm, yp - ym])\n",
    "    # Rotate directions by 90 degrees to obtain normal vectors\n",
    "    normals = np.column_stack([-directions[:, 1], directions[:, 0]])\n",
    "    # normalize normal vectors\n",
    "    norms = np.linalg.norm(normals, axis=1)\n",
    "    normals_normalized = normals / norms[:, np.newaxis]\n",
    "    nn1 = normals_normalized[:, 0]\n",
    "    nn2 = normals_normalized[:, 1]\n",
    "    nn6 = barx*nn2 - bary*nn1\n",
    "\n",
    "    hh1 = np.zeros(N)\n",
    "    hh2 = np.zeros(N)\n",
    "    hh6 = np.zeros(N)\n",
    "    dtheta = np.zeros([N,N])\n",
    "    for i in range(N):\n",
    "        for j in range(N):\n",
    "            a1 = xm[j] - barx[i]\n",
    "            a2 = ym[j] - bary[i]\n",
    "            b1 = xp[j] - barx[i]\n",
    "            b2 = yp[j] - bary[i]\n",
    "\n",
    "            # we constrain the argument between -1 and 1 to avoid numerical issues due to round-off errors\n",
    "            ttemp = np.clip((a1 * b1 + a2 * b2) / sqrt( (a1**2 + a2**2) * (b1**2 + b2**2)), -1, 1)\n",
    "            dtheta[i, j] = -arccos(ttemp)\n",
    "            if j - i == 0:\n",
    "                dtheta[i, j] = -pi # for m=n\n",
    "            x1g = 0.5 * (xp[j] - xm[j]) / sqrt(3) + barx[j]\n",
    "            y1g = 0.5 * (yp[j] - ym[j]) / sqrt(3) + bary[j]\n",
    "            x2g = -0.5 * (xp[j] - xm[j]) / sqrt(3) + barx[j]\n",
    "            y2g = -0.5 * (yp[j] - ym[j]) / sqrt(3) + bary[j]\n",
    "            hh0 = log((x1g - barx[i])**2 + (y1g - bary[i])**2)\n",
    "            hh0 = hh0 + log((x2g - barx[i])**2 + (y2g - bary[i])**2)\n",
    "            hh0 = hh0 * 0.5\n",
    "            hh1[i] += hh0 * nn1[j] * ds[j] / 2\n",
    "            hh2[i] += hh0 * nn2[j] * ds[j] / 2\n",
    "            hh6[i] += hh0 * nn6[j] * ds[j] / 2\n",
    "\n",
    "    # the linear system is solved using a standard numpy linear algebra solver\n",
    "    pdcr1 = (np.linalg.solve(dtheta, hh1))\n",
    "    pdcr2 = (np.linalg.solve(dtheta, hh2))\n",
    "    pdcr6 = (np.linalg.solve(dtheta, hh6))\n",
    "\n",
    "    # finally we compute the added mass coefficents\n",
    "    a11 = np.sum(pdcr1 * nn1 * ds)\n",
    "    a22 = np.sum(pdcr2 * nn2 * ds)\n",
    "    a66 = np.sum(pdcr6 * nn6 * ds)\n",
    "   \n",
    "    return pdcr1, [a11, a22, a66]"
   ]
  },
  {
   "cell_type": "code",
   "execution_count": 3,
   "id": "de2828cc-0608-48b7-a6fc-09fe8e0ce906",
   "metadata": {},
   "outputs": [],
   "source": [
    "def solve(figure_type, a, b, number_of_elems):\n",
    "    theta = np.arange(0, 2 * pi + 2*pi/number_of_elems, 2*pi/number_of_elems)\n",
    "    bartheta = (theta[1::]+theta[0:-1])*0.5\n",
    "\n",
    "    if figure_type == 'eclipse':\n",
    "        r = a*b/sqrt((b*cos(theta))**2 + (a*sin(theta))**2)\n",
    "        x = r*cos(theta)\n",
    "        y = r*sin(theta)\n",
    "    else:\n",
    "        if figure_type == 'square':\n",
    "            r = np.arange(0,a, a/number_of_elems)\n",
    "            r2 = r + a/number_of_elems\n",
    "            y = np.hstack([r, np.ones(number_of_elems)*a, np.ones(number_of_elems)*a, np.flipud(r2), -r, -np.ones(number_of_elems)*a, -np.ones(number_of_elems)*a, -np.flipud(r2), r[0]])\n",
    "            x = np.hstack([np.ones(number_of_elems)*a, np.flipud(r2), -r, -np.ones(number_of_elems)*a, -np.ones(number_of_elems)*a, -np.flipud(r2), r, np.ones(number_of_elems)*a, a])\n",
    "            number_of_elems = 8*number_of_elems\n",
    "    return simplified_fun(x,y,number_of_elems)\n",
    "    "
   ]
  },
  {
   "cell_type": "code",
   "execution_count": 4,
   "id": "7b2a4168-a4a0-4d8f-8571-3befe9895b64",
   "metadata": {},
   "outputs": [],
   "source": [
    "def square_m_ij_coeficents(side_len, number_of_elems):\n",
    "    pdcr, a_mass_coef =  solve('square', side_len, 0, number_of_elems)\n",
    "    m_coef_analytical = np.array([4.754 * side_len**2, 4.754 * side_len**2, 0.725 * side_len**3])\n",
    "    print(m_coef_analytical)\n",
    "    print(a_mass_coef )\n",
    "    print()\n"
   ]
  },
  {
   "cell_type": "code",
   "execution_count": 5,
   "id": "65515281-f417-4ea3-8ee4-1fcd4c6349a3",
   "metadata": {},
   "outputs": [
    {
     "name": "stdout",
     "output_type": "stream",
     "text": [
      "[4.754 4.754 0.725]\n",
      "[4.705414331334932, 4.705414331334931, 0.6957712981788484]\n",
      "\n"
     ]
    }
   ],
   "source": [
    "square_m_ij_coeficents(1, 10)"
   ]
  }
 ],
 "metadata": {
  "kernelspec": {
   "display_name": "Python 3 (ipykernel)",
   "language": "python",
   "name": "python3"
  },
  "language_info": {
   "codemirror_mode": {
    "name": "ipython",
    "version": 3
   },
   "file_extension": ".py",
   "mimetype": "text/x-python",
   "name": "python",
   "nbconvert_exporter": "python",
   "pygments_lexer": "ipython3",
   "version": "3.10.12"
  }
 },
 "nbformat": 4,
 "nbformat_minor": 5
}
