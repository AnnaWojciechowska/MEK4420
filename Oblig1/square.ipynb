{
 "cells": [
  {
   "cell_type": "code",
   "execution_count": 2,
   "id": "e6af0522-0104-498e-8802-dcabfae52931",
   "metadata": {},
   "outputs": [],
   "source": [
    "import numpy as np\n",
    "from numpy import cos, sin, pi, sqrt, arccos, log\n",
    "import matplotlib.pyplot as plt"
   ]
  },
  {
   "cell_type": "code",
   "execution_count": 3,
   "id": "f5f59ec1-ace4-4783-a50c-70b615cf09b3",
   "metadata": {},
   "outputs": [],
   "source": [
    "def clamp(x, xmin, xmax):\n",
    "    return min(max(xmin, x), xmax)\n",
    "    \n",
    "def compute_greens_potential_on_surface(x, y, N):\n",
    "    xp = x[1::]\n",
    "    yp = y[1::]\n",
    "    xm = x[0:-1]\n",
    "    ym = y[0:-1]\n",
    "    \n",
    "    barx = 0.5 * (xp + xm)\n",
    "    bary = 0.5 * (yp + ym)\n",
    "    ds = sqrt((xp - xm) ** 2 + (yp - ym) ** 2)\n",
    "    #nn1 = -barx / sqrt(barx ** 2 + bary ** 2)\n",
    "    # this way of computing the unit normal vector component nn1 also works for ellipse and square\n",
    "    nn1 = -np.cos(np.arctan2((yp - ym),(xp - xm))-pi/2)\n",
    "\n",
    "    hh = np.zeros(N)\n",
    "    dtheta = np.zeros([N,N])\n",
    "    for i in range(N):\n",
    "\n",
    "        for j in range(N):\n",
    "            a1 = xm[j] - barx[i]\n",
    "            a2 = ym[j] - bary[i]\n",
    "            b1 = xp[j] - barx[i]\n",
    "            b2 = yp[j] - bary[i]\n",
    "\n",
    "            # we constrain the argument between -1 and 1 to avoid numerical issues due to round-off errors\n",
    "            ttemp = clamp((a1 * b1 + a2 * b2) / sqrt( (a1**2 + a2**2) * (b1**2 + b2**2)), -1, 1)\n",
    "            dtheta[i, j] = -arccos(ttemp)\n",
    "            if j - i == 0:\n",
    "                dtheta[i, j] = -pi # for m=n\n",
    "            x1g = 0.5 * (xp[j] - xm[j]) / sqrt(3) + barx[j]\n",
    "            y1g = 0.5 * (yp[j] - ym[j]) / sqrt(3) + bary[j]\n",
    "            x2g = -0.5 * (xp[j] - xm[j]) / sqrt(3) + barx[j]\n",
    "            y2g = -0.5 * (yp[j] - ym[j]) / sqrt(3) + bary[j]\n",
    "            hh0 = log((x1g - barx[i])**2 + (y1g - bary[i])**2)\n",
    "            hh0 = hh0 + log((x2g - barx[i])**2 + (y2g - bary[i])**2)\n",
    "            hh0 = hh0 * 0.5\n",
    "            hh[i] += hh0 * nn1[j] * ds[j] / 2\n",
    "\n",
    "    # the linear system is solved using a standard numpy linear algebra solver\n",
    "    pdcr = (np.linalg.solve(dtheta, hh))\n",
    "\n",
    "    # finally we compute the added mass\n",
    "    da11 = pdcr * nn1 * ds\n",
    "    a11 = np.sum(da11)\n",
    "\n",
    "    return pdcr, a11, nn1"
   ]
  },
  {
   "cell_type": "code",
   "execution_count": 4,
   "id": "b75b7a82-718c-4a72-b2a8-aaa40e20ae60",
   "metadata": {},
   "outputs": [
    {
     "name": "stdout",
     "output_type": "stream",
     "text": [
      "Added mass Square:  4.705414331334932\n",
      "Added mass theoretical:  4.754\n",
      "[-1.000000e+00 -1.000000e+00 -1.000000e+00 -1.000000e+00 -1.000000e+00\n",
      " -1.000000e+00 -1.000000e+00 -1.000000e+00 -1.000000e+00 -1.000000e+00\n",
      " -6.123234e-17 -6.123234e-17 -6.123234e-17 -6.123234e-17 -6.123234e-17\n",
      " -6.123234e-17 -6.123234e-17 -6.123234e-17 -6.123234e-17 -6.123234e-17\n",
      " -6.123234e-17 -6.123234e-17 -6.123234e-17 -6.123234e-17 -6.123234e-17\n",
      " -6.123234e-17 -6.123234e-17 -6.123234e-17 -6.123234e-17 -6.123234e-17\n",
      "  1.000000e+00  1.000000e+00  1.000000e+00  1.000000e+00  1.000000e+00\n",
      "  1.000000e+00  1.000000e+00  1.000000e+00  1.000000e+00  1.000000e+00\n",
      "  1.000000e+00  1.000000e+00  1.000000e+00  1.000000e+00  1.000000e+00\n",
      "  1.000000e+00  1.000000e+00  1.000000e+00  1.000000e+00  1.000000e+00\n",
      " -6.123234e-17 -6.123234e-17 -6.123234e-17 -6.123234e-17 -6.123234e-17\n",
      " -6.123234e-17 -6.123234e-17 -6.123234e-17 -6.123234e-17 -6.123234e-17\n",
      " -6.123234e-17 -6.123234e-17 -6.123234e-17 -6.123234e-17 -6.123234e-17\n",
      " -6.123234e-17 -6.123234e-17 -6.123234e-17 -6.123234e-17 -6.123234e-17\n",
      " -1.000000e+00 -1.000000e+00 -1.000000e+00 -1.000000e+00 -1.000000e+00\n",
      " -1.000000e+00 -1.000000e+00 -1.000000e+00 -1.000000e+00 -1.000000e+00]\n"
     ]
    },
    {
     "data": {
      "image/png": "[encoded data removed]",
      "text/plain": [
       "<Figure size 640x480 with 1 Axes>"
      ]
     },
     "metadata": {},
     "output_type": "display_data"
    }
   ],
   "source": [
    "# # square\n",
    "Nr = 10\n",
    "a = 1.\n",
    "r = np.arange(0,a, a/Nr)\n",
    "r2 = r + a/Nr\n",
    "N = 8*Nr\n",
    "# # define coordinates of square\n",
    "y = np.hstack([r, np.ones(Nr)*a, np.ones(Nr)*a, np.flipud(r2), -r, -np.ones(Nr)*a, -np.ones(Nr)*a, -np.flipud(r2), r[0]])\n",
    "x = np.hstack([np.ones(Nr)*a, np.flipud(r2), -r, -np.ones(Nr)*a, -np.ones(Nr)*a, -np.flipud(r2), r, np.ones(Nr)*a, a])\n",
    "pdcr2, a11, n11 = compute_greens_potential_on_surface(x, y, N)\n",
    "print(\"Added mass Square: \", a11)\n",
    "print(\"Added mass theoretical: \", 4.754)\n",
    "print(n11)\n",
    "plt.plot(x,y)\n",
    "plt.show()\n"
   ]
  },
  {
   "cell_type": "code",
   "execution_count": null,
   "id": "dc94bb48-0902-43f7-8e44-9ae6a7be1838",
   "metadata": {},
   "outputs": [],
   "source": []
  }
 ],
 "metadata": {
  "kernelspec": {
   "display_name": "Python 3 (ipykernel)",
   "language": "python",
   "name": "python3"
  },
  "language_info": {
   "codemirror_mode": {
    "name": "ipython",
    "version": 3
   },
   "file_extension": ".py",
   "mimetype": "text/x-python",
   "name": "python",
   "nbconvert_exporter": "python",
   "pygments_lexer": "ipython3",
   "version": "3.10.12"
  }
 },
 "nbformat": 4,
 "nbformat_minor": 5
}
