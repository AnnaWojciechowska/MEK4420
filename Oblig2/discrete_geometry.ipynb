{
 "cells": [
  {
   "cell_type": "code",
   "execution_count": 1,
   "id": "a1e01c13-deff-4380-aaba-b37151eef7c8",
   "metadata": {},
   "outputs": [],
   "source": [
    "import numpy as np\n",
    "import matplotlib.pyplot as plt"
   ]
  },
  {
   "cell_type": "code",
   "execution_count": 2,
   "id": "0089e2a4-0909-4d0a-b1a5-983033bdeb86",
   "metadata": {},
   "outputs": [],
   "source": [
    "def calculate_segment_coordinates(depth,length, n_side_segments, n_bottom_segments):\n",
    "    n_total_segmnets = 2* n_side_segments + n_bottom_segments\n",
    "    dy = depth/n_side_segments\n",
    "    dx = length/n_bottom_segments\n",
    "    x_m = np.empty(n_total_segmnets)\n",
    "    y_m = np.empty(n_total_segmnets)\n",
    "    x_p = np.empty(n_total_segmnets)\n",
    "    y_p = np.empty(n_total_segmnets)\n",
    "\n",
    "    #initializing coordinates:\n",
    "    x_m[0] = -length/2\n",
    "    y_m[0] = 0\n",
    "    x_p[0] = -length/2\n",
    "    y_p[0] = -dy\n",
    "   \n",
    "    # first we initialize coordinates array by 1st side\n",
    "    for i in range(1, n_side_segments):\n",
    "        x_m[i] = -length/2\n",
    "        y_m[i] = -dy*(i)\n",
    "        x_p[i] = -length/2 \n",
    "        y_p[i] = -dy*(i+1)    \n",
    "\n",
    "    # now we caluclate points coordinates along bottom\n",
    "    for i in range(n_side_segments,  n_side_segments+n_bottom_segments):\n",
    "        i1= i-n_side_segments+1\n",
    "        x_m[i]=-length/2+dx*(i1-1)\n",
    "        y_m[i]=-depth\n",
    "        x_p[i]=-length/2+dx*i1\n",
    "        y_p[i]=-depth\n",
    "    \n",
    "    # last side\n",
    "    for i in range(n_side_segments+n_bottom_segments, n_side_segments+n_bottom_segments+n_side_segments):\n",
    "        i1=i-n_side_segments-n_bottom_segments + 1\n",
    "        x_m[i]=length/2\n",
    "        y_m[i]=-depth+dy*(i1-1)\n",
    "        x_p[i]=length/2\n",
    "        y_p[i]=-depth+dy*(i1)\n",
    "    return x_m, y_m, x_p, y_p"
   ]
  },
  {
   "cell_type": "code",
   "execution_count": 3,
   "id": "766228d9-f79b-4118-aae3-c317bcb30752",
   "metadata": {},
   "outputs": [
    {
     "data": {
      "image/png": "[encoded data removed]",
      "text/plain": [
       "<Figure size 640x480 with 1 Axes>"
      ]
     },
     "metadata": {},
     "output_type": "display_data"
    }
   ],
   "source": [
    "#box of draught depth and length \n",
    "depth = 1\n",
    "length = 2\n",
    "n_side_sements = 10\n",
    "n_bottom_segments = 20\n",
    "\n",
    "x_m, y_m , x_p, y_p = calculate_segment_coordinates(depth,length, n_side_sements, n_bottom_segments)\n",
    "plt.scatter(np.append(x_m, x_p[-1]) ,np.append(y_m, y_p[-1]))\n",
    "plt.xlabel('X')\n",
    "plt.ylabel('Y')\n",
    "plt.grid(True)\n",
    "plt.show()\n"
   ]
  },
  {
   "cell_type": "code",
   "execution_count": 4,
   "id": "66642b7f-b65d-4098-ad51-8d52c9f8edea",
   "metadata": {},
   "outputs": [
    {
     "name": "stdout",
     "output_type": "stream",
     "text": [
      "[ True  True  True  True  True  True  True  True  True  True  True  True\n",
      "  True  True  True  True  True  True  True  True  True  True  True  True\n",
      "  True  True  True  True  True  True  True  True  True  True  True  True\n",
      "  True  True  True  True]\n",
      "[ True  True  True  True  True  True  True  True  True  True  True  True\n",
      "  True  True  True  True  True  True  True  True  True  True  True  True\n",
      "  True  True  True  True  True  True  True  True  True  True  True  True\n",
      "  True  True  True  True]\n",
      "[ True  True  True  True  True  True  True  True  True  True  True  True\n",
      "  True  True  True  True  True  True  True  True  True  True  True  True\n",
      "  True  True  True  True  True  True  True  True  True  True  True  True\n",
      "  True  True  True  True]\n",
      "[ True  True  True  True  True  True  True  True  True  True  True  True\n",
      "  True  True  True  True  True  True  True  True  True  True  True  True\n",
      "  True  True  True  True  True  True  True  True  True  True  True  True\n",
      "  True  True  True  True]\n"
     ]
    }
   ],
   "source": [
    "def get_matlab_results():\n",
    "    file_path = '/home/anna/MATLAB/R2023b/bin/matlab_points.txt'\n",
    "    with open(file_path, 'r') as file:\n",
    "        arrays = []\n",
    "        for line in file:\n",
    "            array = np.array([float(x) for x in line.split()])\n",
    "            arrays.append(array)\n",
    "    return np.array(arrays)\n",
    "\n",
    "matlab_results = get_matlab_results()\n",
    "x_m, y_m, x_p, y_p = calculate_segment_coordinates(depth,length, n_side_sements, n_bottom_segments)\n",
    "python_results = np.stack((x_m, y_m, x_p, y_p), axis=0)\n",
    "\n",
    "for i in range(0,4):\n",
    "    result = np.isclose(matlab_results[i],  python_results[i], rtol=10**(-3))\n",
    "    print(result)\n",
    "    assert np.allclose(matlab_results[i], python_results[i], atol=10**(-3)), \"Arrays are not equal to 3 decimal places\""
   ]
  }
 ],
 "metadata": {
  "kernelspec": {
   "display_name": "Python 3 (ipykernel)",
   "language": "python",
   "name": "python3"
  },
  "language_info": {
   "codemirror_mode": {
    "name": "ipython",
    "version": 3
   },
   "file_extension": ".py",
   "mimetype": "text/x-python",
   "name": "python",
   "nbconvert_exporter": "python",
   "pygments_lexer": "ipython3",
   "version": "3.10.12"
  }
 },
 "nbformat": 4,
 "nbformat_minor": 5
}
